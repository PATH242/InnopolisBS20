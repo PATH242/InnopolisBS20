{
 "cells": [
  {
   "cell_type": "markdown",
   "source": [
    "# Information retrieval homework 1 - Crawler\n",
    "https://github.com/IUCVLab/information-retrieval/blob/main/homeworks/2023/2023S-01%20-%20Crawling.ipynb"
   ],
   "metadata": {
    "collapsed": false
   }
  },
  {
   "cell_type": "markdown",
   "source": [
    "## Task 1.1 Download and persist"
   ],
   "metadata": {
    "collapsed": false
   }
  },
  {
   "cell_type": "code",
   "execution_count": 12,
   "outputs": [],
   "source": [
    "import requests\n",
    "from urllib.parse import quote\n",
    "from hashlib import sha512\n",
    "import os\n",
    "from urllib.parse import urlparse\n",
    "\n",
    "class Document:\n",
    "    def __init__(self, url):\n",
    "        self.url = url\n",
    "        self.file_name_hashed = \"\"\n",
    "        self.type = \".txt\"\n",
    "    # get document via download, persist, and load\n",
    "    def get(self):\n",
    "        if not self.load():\n",
    "            if not self.download():\n",
    "                raise FileNotFoundError(self.url)\n",
    "            else:\n",
    "                self.persist()\n",
    "    # download self.url content, store it in self.content and return True in case of success\n",
    "    def download(self):\n",
    "        try:\n",
    "            response = requests.get(self.url, allow_redirects=True)\n",
    "            if response.status_code != 200:\n",
    "                print(response.status_code, response.reason, 'for', self.url)\n",
    "                return False\n",
    "            self.content = response.content\n",
    "            path = urlparse(self.url).path\n",
    "            if path:\n",
    "                self.type = os.path.splitext(path)[1]\n",
    "            print(f\"File downloaded from {self.url}\")\n",
    "            return True\n",
    "        except:\n",
    "            return False\n",
    "\n",
    "    # write document content to hard drive, return True in case of success\n",
    "    def persist(self):\n",
    "        try:\n",
    "            if self.file_name_hashed == \"\":\n",
    "                self.file_name_hashed =  sha512(self.url.encode()).hexdigest() + self.type\n",
    "            with open(self.file_name_hashed, 'wb') as f:\n",
    "                f.write(self.content)\n",
    "                print(f\"File saved as {self.file_name_hashed}\")\n",
    "        except:\n",
    "            return False\n",
    "\n",
    "    # load content from hard drive, store it in self.content and return True in case of success\n",
    "    def load(self):\n",
    "        try:\n",
    "            with open(self.file_name_hashed, 'rb') as f:\n",
    "                self.content = f.read()\n",
    "                return True\n",
    "        except:\n",
    "            return False"
   ],
   "metadata": {
    "collapsed": false
   }
  },
  {
   "cell_type": "code",
   "execution_count": 13,
   "outputs": [
    {
     "name": "stdout",
     "output_type": "stream",
     "text": [
      "File downloaded from http://sprotasov.ru/data/iu.txt\n",
      "File saved as 399b014f7ddfc1e4b2721c246d3752b1159261ef9780f58f263bed08e521b28ca74c58c35806bd1871e1cb57b879a9da2e77e57dd3a17255a3f258b42377a365.txt\n",
      "Task 1.1 test Success\n"
     ]
    }
   ],
   "source": [
    "doc = Document('http://sprotasov.ru/data/iu.txt')\n",
    "\n",
    "doc.get()\n",
    "assert doc.content, \"Document download failed\"\n",
    "assert \"Code snippets, demos and labs for the course\" in str(doc.content), \"Document content error\"\n",
    "\n",
    "doc.get()\n",
    "assert doc.load(), \"Load should return true for saved document\"\n",
    "assert \"Code snippets, demos and labs for the course\" in str(doc.content), \"Document load from disk error\"\n",
    "print(\"Task 1.1 test Success\")"
   ],
   "metadata": {
    "collapsed": false
   }
  },
  {
   "cell_type": "code",
   "execution_count": 14,
   "outputs": [
    {
     "name": "stdout",
     "output_type": "stream",
     "text": [
      "File downloaded from http://commondatastorage.googleapis.com/codeskulptor-demos/DDR_assets/Kangaroo_MusiQue_-_The_Neverwritten_Role_Playing_Game.mp3\n",
      "File saved as 26db2dd587b44363c8f6ee0acfd28dbf706e3e7a71722d7543d241e3203a58e2f3781ef242293a4c54bbffa6d46e397937ddc61f6257055ed8432d4435d9dec1.mp3\n",
      "Task 1.1 mp3 test Success\n"
     ]
    }
   ],
   "source": [
    "new_doc = Document('http://commondatastorage.googleapis.com/codeskulptor-demos/DDR_assets/Kangaroo_MusiQue_-_The_Neverwritten_Role_Playing_Game.mp3')\n",
    "new_doc.get()\n",
    "assert new_doc.load(), \"Load should return true for saved document\"\n",
    "print(\"Task 1.1 mp3 test Success\")"
   ],
   "metadata": {
    "collapsed": false
   }
  },
  {
   "cell_type": "code",
   "execution_count": 15,
   "outputs": [
    {
     "name": "stdout",
     "output_type": "stream",
     "text": [
      "File downloaded from https://innopolis.university/files/politicacookies.pdf?lang=ru&id=12&site=s1&template=university24&landing_mode=edit\n",
      "File saved as 183e243dcc6c242023d3c8ed65c6334d252d4d0fda2bb74220d4bddc536085610530596d7f7cf4957094a3629b5d048fdd845b5ecc7f4298878a779b40359711.pdf\n",
      "Task 1.1 pdf test Success\n"
     ]
    }
   ],
   "source": [
    "third_doc = Document('https://innopolis.university/files/politicacookies.pdf?lang=ru&id=12&site=s1&template=university24&landing_mode=edit')\n",
    "third_doc.get()\n",
    "assert new_doc.load(), \"Load should return true for saved document\"\n",
    "print(\"Task 1.1 pdf test Success\")"
   ],
   "metadata": {
    "collapsed": false
   }
  },
  {
   "cell_type": "markdown",
   "source": [
    "## Task 1.2 Parse HTML"
   ],
   "metadata": {
    "collapsed": false
   }
  },
  {
   "cell_type": "code",
   "execution_count": 16,
   "outputs": [],
   "source": [
    "from bs4 import BeautifulSoup\n",
    "from bs4.element import Comment\n",
    "from bs4 import SoupStrainer\n",
    "import urllib.parse\n",
    "import httplib2\n",
    "\n",
    "class HTMLDocument(Document):\n",
    "\n",
    "    def __init__(self, url):\n",
    "        super().__init__(url)\n",
    "        self.anchors = []\n",
    "        self.images = []\n",
    "        self.text = \"\"\n",
    "    # check if element is visible\n",
    "    def tag_visible(self, element):\n",
    "        if element.parent.name in ['style', 'script', 'head', 'title', 'meta', '[document]']:\n",
    "            return False\n",
    "        if isinstance(element, Comment):\n",
    "            return False\n",
    "        return True\n",
    "    # extract text from html\n",
    "    def textFromHTML(self, body):\n",
    "        soup = BeautifulSoup(body, 'html.parser')\n",
    "        texts = soup.findAll(text=True)\n",
    "        visible_texts = filter(self.tag_visible, texts)\n",
    "        return u\"\".join(t.strip() for t in visible_texts)\n",
    "\n",
    "    # extract plain text, images and links from the document\n",
    "    def parse(self):\n",
    "        try:\n",
    "            http = httplib2.Http()\n",
    "            status, response = http.request(self.url)\n",
    "            self.text = self.textFromHTML(response)\n",
    "            for link in BeautifulSoup(response, 'html.parser', parse_only=SoupStrainer('a') ):\n",
    "                if(link.has_attr('href')):\n",
    "                    self.anchors.append((link.text, link['href']))\n",
    "            html = response.decode()\n",
    "            soup = BeautifulSoup(html, 'html.parser')\n",
    "            for img in soup.find_all('img'):\n",
    "                src = img.get('src')\n",
    "                if src:\n",
    "                    src = urllib.parse.urljoin(self.url, src)\n",
    "                    self.images.append(src)\n",
    "            return True\n",
    "        except:\n",
    "            return False"
   ],
   "metadata": {
    "collapsed": false
   }
  },
  {
   "cell_type": "code",
   "execution_count": 17,
   "outputs": [
    {
     "name": "stdout",
     "output_type": "stream",
     "text": [
      "File downloaded from http://sprotasov.ru\n",
      "File saved as adb3427a17aef9dbfd24527adc85614193d6831828b7303941b457a289c9463bed5ffb2f5c5dd6100f6b467e21a810908839ee5b694502cff4d7d6956b407f9c.txt\n",
      "Task 1.2 test Success\n"
     ]
    }
   ],
   "source": [
    "doc = HTMLDocument('http://sprotasov.ru')\n",
    "doc.get()\n",
    "doc.parse()\n",
    "\n",
    "assert \"just few links\" in doc.text, \"Error parsing text\"\n",
    "assert any(p[1] == \"https://twitter.com/07C3\" for p in doc.anchors), \"Error parsing links\"\n",
    "assert \"http://sprotasov.ru/images/gb.svg\" in doc.images, \"Error parsing images\"\n",
    "print(\"Task 1.2 test Success\")\n"
   ],
   "metadata": {
    "collapsed": false
   }
  },
  {
   "cell_type": "markdown",
   "source": [
    "## Task 1.3 Document analysis"
   ],
   "metadata": {
    "collapsed": false
   }
  },
  {
   "cell_type": "code",
   "execution_count": 32,
   "outputs": [],
   "source": [
    "from collections import Counter\n",
    "import re\n",
    "class HtmlDocumentTextData:\n",
    "    def __init__(self, url):\n",
    "        self.doc = HTMLDocument(url)\n",
    "        self.doc.get()\n",
    "        self.doc.parse()\n",
    "\n",
    "    # sentences parser\n",
    "    def get_sentences(self):\n",
    "        result = []\n",
    "        soup = BeautifulSoup(self.doc.content, 'html.parser')\n",
    "        tag = soup.body\n",
    "        try:\n",
    "            for s in tag.strings:\n",
    "                result.append(s.strip().lower())\n",
    "        except:\n",
    "            print(\"ERROR IN PARSING {doc.url}\")\n",
    "        return result\n",
    "\n",
    "    # return Counter object of the document, containing mapping {`word` -> count_in_doc}\n",
    "    def get_word_stats(self):\n",
    "        sentences = self.get_sentences()\n",
    "        words = []\n",
    "        for s in sentences:\n",
    "            words += re.split(' ', s)\n",
    "        for i in range( len(words) ):\n",
    "            words[i] = re.sub(r'[^\\w\\s]', '', words[i].lower())\n",
    "        words = filter(lambda x: x != '', words)\n",
    "        return Counter(words)"
   ],
   "metadata": {
    "collapsed": false
   }
  },
  {
   "cell_type": "code",
   "execution_count": 28,
   "outputs": [
    {
     "name": "stdout",
     "output_type": "stream",
     "text": [
      "File downloaded from https://innopolis.university/\n",
      "File saved as 09f4ea693dd9b25ed0ccc27a46a34a00d3faec660a4b0143f63a08a631ffbe17a817de31a1448b57a318c1aa6dd71c80633263149dd438ce4a663190574121bb\n",
      "[('и', 44), ('в', 22), ('иннополис', 20), ('с', 13), ('на', 12), ('университет', 11), ('университета', 11), ('центр', 10), ('для', 9), ('образование', 8)]\n",
      "Task 1.3 test Success\n"
     ]
    }
   ],
   "source": [
    "doc = HtmlDocumentTextData(\"https://innopolis.university/\")\n",
    "\n",
    "print(doc.get_word_stats().most_common(10))\n",
    "assert [x for x in doc.get_word_stats().most_common(10) if x[0] == 'иннополис'], 'иннополис should be among most common'\n",
    "print(\"Task 1.3 test Success\")"
   ],
   "metadata": {
    "collapsed": false
   }
  },
  {
   "cell_type": "markdown",
   "source": [
    "## Task 1.4 Crawler"
   ],
   "metadata": {
    "collapsed": false
   }
  },
  {
   "cell_type": "code",
   "execution_count": 29,
   "outputs": [],
   "source": [
    "from queue import Queue\n",
    "\n",
    "class Crawler:\n",
    "    # return generator of HtmlDocumentTextData objects as per depth specified\n",
    "    def crawl_generator(self, source, depth=1):\n",
    "        visited = {} # visited urls\n",
    "        q = Queue() # queue of urls to process\n",
    "        q.put( (0, source) )\n",
    "        while(not q.empty()):\n",
    "            try:\n",
    "                current_website = q.get()\n",
    "                if current_website[0] > depth:\n",
    "                    break\n",
    "                if current_website[1] in visited:\n",
    "                    continue\n",
    "                visited[current_website[1]] = True\n",
    "                if current_website[1][-4:] in ('.pdf', '.mp3', '.avi', '.mp4', '.txt'):\n",
    "                    continue\n",
    "                print(f\"Working on {current_website}\")\n",
    "                doc_data = HtmlDocumentTextData(current_website[1])\n",
    "                for childDoc in doc_data.doc.anchors:\n",
    "                    q.put((current_website[0] + 1, childDoc[1]))\n",
    "                print(\"Finished working on \", current_website)\n",
    "                yield doc_data\n",
    "            except Exception as e:\n",
    "                continue"
   ],
   "metadata": {
    "collapsed": false
   }
  },
  {
   "cell_type": "code",
   "execution_count": 30,
   "outputs": [
    {
     "name": "stdout",
     "output_type": "stream",
     "text": [
      "Working on (0, 'https://innopolis.university/en/')\n",
      "File downloaded from https://innopolis.university/en/\n",
      "File saved as 2bed1ead3692ff737b2cb6e4f18fd88be0eb46a4ceb0223e99968313b6b88f8e850463f1cd87bfe8e53614215241ac5a90e8adaa1ce80f95e83033a865115e02\n",
      "Finished working on  (0, 'https://innopolis.university/en/')\n",
      "https://innopolis.university/en/\n",
      "331 distinct word(s) so far\n",
      "Working on (1, '/')\n",
      "Working on (1, '')\n",
      "Working on (1, 'https://apply.innopolis.university/en')\n",
      "File downloaded from https://apply.innopolis.university/en\n",
      "File saved as c46534425cd0a1e4fd7c7d72b585b39832d77293fb58a03f7a8d4c5eca22477358fa005dbfedf72439ab4b170bb0daf88d0ab230e6a880e86c767e626b014b5d\n",
      "Finished working on  (1, 'https://apply.innopolis.university/en')\n",
      "https://apply.innopolis.university/en\n",
      "977 distinct word(s) so far\n",
      "Working on (1, '/proekty/activity/en\"')\n",
      "Working on (1, 'https://media.innopolis.university/en')\n",
      "File downloaded from https://media.innopolis.university/en\n",
      "File saved as 4029b6fdc1f8809f1f778ddeee49e1748a83685683ce49dd57d3543bae2a83507d0dfdf0a04316d5162807af9018f8a80f800e568c85b24097cfea65abe74b4f\n",
      "Finished working on  (1, 'https://media.innopolis.university/en')\n",
      "https://media.innopolis.university/en\n",
      "1047 distinct word(s) so far\n",
      "Working on (1, 'https://innopolis.university/lk/')\n",
      "File downloaded from https://innopolis.university/lk/\n",
      "File saved as 7f1d0b2aebfc07a39a5dd7c35cf9f311cfeeed2701426dd1c5e82f1e7c3846f88113b58b9e53243af76f1aa3749307b304d838e0273148d494e2368b6eb75afe\n",
      "Finished working on  (1, 'https://innopolis.university/lk/')\n",
      "https://innopolis.university/lk/\n",
      "1405 distinct word(s) so far\n",
      "Working on (1, 'https://innopolis.university/en/about/')\n",
      "File downloaded from https://innopolis.university/en/about/\n",
      "File saved as 8ef9a61e1424ec18d6d00be81eec2ff75d17a3402ab5094275beb53859197568e369be5a262666d859b2e1bb7334445cf181a1482a69d830efb8decda9660e80\n",
      "Finished working on  (1, 'https://innopolis.university/en/about/')\n",
      "https://innopolis.university/en/about/\n",
      "1584 distinct word(s) so far\n",
      "Working on (1, 'https://innopolis.university/en/board/')\n",
      "File downloaded from https://innopolis.university/en/board/\n",
      "File saved as 59feb9d1e82c1d6e4bbcdec227967c1671f8e3192a73513242bb4aa3cc37df45a57a0eb6aea0631c79166b7e1e419a01c816456c3b7218a4ff3da95ed51f18d1\n",
      "Finished working on  (1, 'https://innopolis.university/en/board/')\n",
      "https://innopolis.university/en/board/\n",
      "1671 distinct word(s) so far\n",
      "Working on (1, 'https://innopolis.university/en/team/')\n",
      "File downloaded from https://innopolis.university/en/team/\n",
      "File saved as 612844ef3aa7dde22cd8a5dd9a02c24a6a05bc05dba02ebdb5967aace990f482967bd20a53b6b734635b3d21b0c5218faa04d2f546a845f850171dd38430c8d6\n",
      "Finished working on  (1, 'https://innopolis.university/en/team/')\n",
      "https://innopolis.university/en/team/\n",
      "1672 distinct word(s) so far\n",
      "Working on (1, 'https://innopolis.university/en/team-structure/')\n",
      "File downloaded from https://innopolis.university/en/team-structure/\n",
      "File saved as f6362e46d1e8ca2d446ea172438e06f04cd4868332dcf0538edbcc23da99766e3edbe2ddd826a3f831bed63e2f02e61b3e9c5c8daf2a7d1e7106010383f44cea\n",
      "Finished working on  (1, 'https://innopolis.university/en/team-structure/')\n",
      "https://innopolis.university/en/team-structure/\n",
      "1675 distinct word(s) so far\n",
      "Working on (1, 'https://innopolis.university/en/team-structure/education-academics/')\n",
      "File downloaded from https://innopolis.university/en/team-structure/education-academics/\n",
      "File saved as ac30ecfcffbe36d713257afd887714c36e72a2ebcbc52a3940942645839c47caf8fe0c7a90244a9e8b8de904013ff856be5f329234e68772adf5a51211f927d3\n",
      "Finished working on  (1, 'https://innopolis.university/en/team-structure/education-academics/')\n",
      "https://innopolis.university/en/team-structure/education-academics/\n",
      "1678 distinct word(s) so far\n",
      "Working on (1, 'https://innopolis.university/en/team-structure/techcenters/')\n",
      "File downloaded from https://innopolis.university/en/team-structure/techcenters/\n",
      "File saved as a1363c7c7600f8758b842e849b1f964fbcd76cf928091309072a316bbb50741d7087bfc0e716c633c8240da404eaf2039224d4a448734cb1ee1f0ffa580179db\n",
      "Finished working on  (1, 'https://innopolis.university/en/team-structure/techcenters/')\n",
      "https://innopolis.university/en/team-structure/techcenters/\n",
      "1682 distinct word(s) so far\n",
      "Working on (1, 'https://innopolis.university/en/faculty/')\n",
      "File downloaded from https://innopolis.university/en/faculty/\n",
      "File saved as 74142a5937d2c499e154ce5b3172ab97506e58284d20bf845da6ce63935f1adfddc6839976cd92ffbae91cd0397d31abc9b078154e1566208529d1c31ff23726\n",
      "Finished working on  (1, 'https://innopolis.university/en/faculty/')\n",
      "https://innopolis.university/en/faculty/\n",
      "2573 distinct word(s) so far\n",
      "Working on (1, 'https://career.innopolis.university/en/job/')\n",
      "File downloaded from https://career.innopolis.university/en/job/\n",
      "File saved as 9fbe38ea5134f4f3e8c9b251e6b0cc924f98271f6cf39d57875307d39bda0daf62ff3ce1b2d92ee6c6ba99de83e1abe8026d4e8b2e3e5a61212b423b9e0d1b10\n",
      "Finished working on  (1, 'https://career.innopolis.university/en/job/')\n",
      "https://career.innopolis.university/en/job/\n",
      "3081 distinct word(s) so far\n",
      "Working on (1, 'https://career.innopolis.university/en/')\n",
      "File downloaded from https://career.innopolis.university/en/\n",
      "File saved as c4d3d4940d5899b5525da2258c412fa42a74e0de38cc239838a158336cac6361e558b6a06e45e379bc3a8167989d1a973f80ffc8de91e5f876e492519385d516\n",
      "Finished working on  (1, 'https://career.innopolis.university/en/')\n",
      "https://career.innopolis.university/en/\n",
      "3189 distinct word(s) so far\n",
      "Working on (1, 'https://innopolis.university/en/campus')\n",
      "File downloaded from https://innopolis.university/en/campus\n",
      "File saved as 4a171b97a2a38f5f2f665c81fe90e1f7b27b4e8446a4f38108d0987dcac7ff579c08288c96f95b394f1ccd5eb6175375799a2baa05314c93b3b9bd284a0d569c\n",
      "Finished working on  (1, 'https://innopolis.university/en/campus')\n",
      "https://innopolis.university/en/campus\n",
      "3307 distinct word(s) so far\n",
      "Working on (1, 'https://innopolis.university/en/contacts/')\n",
      "File downloaded from https://innopolis.university/en/contacts/\n",
      "File saved as aa12d6a9ccd6145099cfc127fdf9e263f70a6cae734a783418f1c87158753db0b4adce12768d888e6916dec7c53f0c3b3d16f22fc4b52776c11d855a652bf84c\n",
      "Finished working on  (1, 'https://innopolis.university/en/contacts/')\n",
      "https://innopolis.university/en/contacts/\n",
      "3317 distinct word(s) so far\n",
      "Working on (1, 'https://apply.innopolis.university/en/')\n",
      "File downloaded from https://apply.innopolis.university/en/\n",
      "File saved as a8defeb760e2f64261b75ad25e088cf9ce1ca00fd1264ebe3f42591f066105ccb2a449f00012561dfa4ccc4b50228fe61d40a5b80ba7753cf889dabe07bb7019\n",
      "Finished working on  (1, 'https://apply.innopolis.university/en/')\n",
      "https://apply.innopolis.university/en/\n",
      "3317 distinct word(s) so far\n",
      "Working on (1, 'https://apply.innopolis.university/en/bachelor/')\n",
      "File downloaded from https://apply.innopolis.university/en/bachelor/\n",
      "File saved as eadf08308ebe36dcef47b4abe48dc2eb78cb5b2689b07000a061e8fefa2ee6e966d5096e3e7dd66a750d93db7cd296e57846c4005109c359cbf6ae03cfb0fe93\n",
      "Finished working on  (1, 'https://apply.innopolis.university/en/bachelor/')\n",
      "https://apply.innopolis.university/en/bachelor/\n",
      "3380 distinct word(s) so far\n",
      "Working on (1, 'https://apply.innopolis.university/en/master/')\n",
      "File downloaded from https://apply.innopolis.university/en/master/\n",
      "File saved as 84194e15880759a12da57bbcd6b33efca568ef7b64f870b6d0d896e832a2776c04b04512c9d4146527ca976979f687b32285b2c5644ad7f55046d5625470b654\n",
      "Finished working on  (1, 'https://apply.innopolis.university/en/master/')\n",
      "https://apply.innopolis.university/en/master/\n",
      "3398 distinct word(s) so far\n",
      "Working on (1, 'https://apply.innopolis.university/en/postgraduate-study/')\n",
      "File downloaded from https://apply.innopolis.university/en/postgraduate-study/\n",
      "File saved as cb54babb896503ff3bf203b458e9b70b1ca210a2449ab86ac6d5933afaa39ed458db995ea36b6ae4ec8ec1701a952f93c927f0c6bc343420b648062939d04a50\n",
      "Finished working on  (1, 'https://apply.innopolis.university/en/postgraduate-study/')\n",
      "https://apply.innopolis.university/en/postgraduate-study/\n",
      "3429 distinct word(s) so far\n",
      "Working on (1, 'https://apply.innopolis.university/en/stud-life/')\n",
      "File downloaded from https://apply.innopolis.university/en/stud-life/\n",
      "File saved as b6f51a1ad9a1b03066c56559cf3d99c3d2e031f9a340cf7fdb2af2333e7078ccbc7887e60558f13ecee4d4dbca2e06b6215f6b2e11ba026671bce2d36942f611\n",
      "Done\n",
      "30308 distinct words in total\n",
      "[('the', 9727), ('and', 8694), ('и', 8345), ('of', 7961), ('в', 5773), ('in', 5141), ('to', 4794), ('for', 3131), ('university', 3114), ('на', 3064), ('a', 2882), ('с', 2482), ('иннополис', 2404), ('по', 2126), ('at', 1718), ('я', 1693), ('университета', 1684), ('is', 1649), ('i', 1614), ('innopolis', 1549)]\n"
     ]
    }
   ],
   "source": [
    "crawler = Crawler()\n",
    "counter = Counter()\n",
    "\n",
    "for c in crawler.crawl_generator(\"https://innopolis.university/en/\", 2):\n",
    "    print(c.doc.url)\n",
    "    if c.doc.url[-4:] in ('.pdf', '.mp3', '.avi', '.mp4', '.txt'):\n",
    "        print(\"Skipping\", c.doc.url)\n",
    "        continue\n",
    "    counter.update(c.get_word_stats())\n",
    "    print(len(counter), \"distinct word(s) so far\")\n",
    "\n",
    "print(\"Done\")\n",
    "print(len(counter), \"distinct words in total\")\n",
    "print(counter.most_common(20))\n",
    "assert [x for x in counter.most_common(20) if x[0] == 'иннополис'], 'иннополис sould be among most common'\n",
    "assert [x for x in counter.most_common(20) if x[0] == 'innopolis'], 'innopolis sould be among most common'"
   ],
   "metadata": {
    "collapsed": false
   }
  },
  {
   "cell_type": "code",
   "execution_count": 31,
   "outputs": [
    {
     "name": "stdout",
     "output_type": "stream",
     "text": [
      "Task 1.4 test Success\n"
     ]
    }
   ],
   "source": [
    "print(\"Task 1.4 test Success\")"
   ],
   "metadata": {
    "collapsed": false
   }
  }
 ],
 "metadata": {
  "kernelspec": {
   "display_name": "Python 3",
   "language": "python",
   "name": "python3"
  },
  "language_info": {
   "codemirror_mode": {
    "name": "ipython",
    "version": 2
   },
   "file_extension": ".py",
   "mimetype": "text/x-python",
   "name": "python",
   "nbconvert_exporter": "python",
   "pygments_lexer": "ipython2",
   "version": "2.7.6"
  }
 },
 "nbformat": 4,
 "nbformat_minor": 0
}
